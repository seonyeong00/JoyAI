{
  "nbformat": 4,
  "nbformat_minor": 0,
  "metadata": {
    "colab": {
      "name": "20200917 notetaking.ipynb",
      "provenance": [],
      "authorship_tag": "ABX9TyO+b0QNfhsnVXErqoVfgN/H",
      "include_colab_link": true
    },
    "kernelspec": {
      "name": "python3",
      "display_name": "Python 3"
    }
  },
  "cells": [
    {
      "cell_type": "markdown",
      "metadata": {
        "id": "view-in-github",
        "colab_type": "text"
      },
      "source": [
        "<a href=\"https://colab.research.google.com/github/seonyeong00/JoyAI/blob/master/20200917_notetaking.ipynb\" target=\"_parent\"><img src=\"https://colab.research.google.com/assets/colab-badge.svg\" alt=\"Open In Colab\"/></a>"
      ]
    },
    {
      "cell_type": "code",
      "metadata": {
        "id": "E9-NnABOklTv",
        "colab_type": "code",
        "colab": {
          "base_uri": "https://localhost:8080/",
          "height": 73
        },
        "outputId": "f50571ff-302c-498e-9d18-7ec76b40c4df"
      },
      "source": [
        "userName = input('your name=')\n",
        "userBirthYear = input('your birth year=')\n",
        "userAffiliation = input('your affiliation=')"
      ],
      "execution_count": 1,
      "outputs": [
        {
          "output_type": "stream",
          "text": [
            "your name=JSY\n",
            "your birth year=2000\n",
            "your affiliation=HGU\n"
          ],
          "name": "stdout"
        }
      ]
    },
    {
      "cell_type": "code",
      "metadata": {
        "id": "vjFkKa_llnZE",
        "colab_type": "code",
        "colab": {
          "base_uri": "https://localhost:8080/",
          "height": 73
        },
        "outputId": "e0f43c64-1603-4b40-8115-7ec91aec2562"
      },
      "source": [
        "print('Your name is' , userName, '\\nYour age is', 2020-int(userBirthYear) , '\\nYour affiliation is' , userAffiliation)"
      ],
      "execution_count": 4,
      "outputs": [
        {
          "output_type": "stream",
          "text": [
            "Your name is JSY \n",
            "Your age is 20 \n",
            "Your affiliation is HGU\n"
          ],
          "name": "stdout"
        }
      ]
    },
    {
      "cell_type": "code",
      "metadata": {
        "id": "TED7F50bl_En",
        "colab_type": "code",
        "colab": {
          "base_uri": "https://localhost:8080/",
          "height": 73
        },
        "outputId": "258560c6-9066-416e-97fc-5477ed3146c8"
      },
      "source": [
        "price = int(input('price='))\n",
        "total= int(input('total='))\n",
        "print(total - price)"
      ],
      "execution_count": 6,
      "outputs": [
        {
          "output_type": "stream",
          "text": [
            "price=5000\n",
            "total=10000\n",
            "5000\n"
          ],
          "name": "stdout"
        }
      ]
    },
    {
      "cell_type": "code",
      "metadata": {
        "id": "pByYjk89nHwg",
        "colab_type": "code",
        "colab": {
          "base_uri": "https://localhost:8080/",
          "height": 129
        },
        "outputId": "ef63fa42-fe6f-4cb1-a1df-69619d7fec23"
      },
      "source": [
        "# if condition\n",
        "count = input('type some number=')\n",
        "print('original flow 1')\n",
        "if int(count) > 10:\n",
        "  print('*'*25)\n",
        "  print('this is inside the if')\n",
        "  print('*'*25)\n",
        "else:\n",
        "print('original flow 2')"
      ],
      "execution_count": 9,
      "outputs": [
        {
          "output_type": "stream",
          "text": [
            "type some number=11\n",
            "original flow 1\n",
            "*************************\n",
            "this is inside the if\n",
            "*************************\n",
            "original flow 2\n"
          ],
          "name": "stdout"
        }
      ]
    },
    {
      "cell_type": "code",
      "metadata": {
        "id": "_LGdFf1Lt54Q",
        "colab_type": "code",
        "colab": {
          "base_uri": "https://localhost:8080/",
          "height": 36
        },
        "outputId": "c8342e3c-4889-417c-8bcd-bae8bd4134f2"
      },
      "source": [
        "r = range(1,7)\n",
        "list(r)  # 오 요 기능 기억하자"
      ],
      "execution_count": 11,
      "outputs": [
        {
          "output_type": "execute_result",
          "data": {
            "text/plain": [
              "[1, 2, 3, 4, 5, 6]"
            ]
          },
          "metadata": {
            "tags": []
          },
          "execution_count": 11
        }
      ]
    },
    {
      "cell_type": "code",
      "metadata": {
        "id": "h-N-1RA6vLIj",
        "colab_type": "code",
        "colab": {
          "base_uri": "https://localhost:8080/",
          "height": 251
        },
        "outputId": "5169d1e9-ac9d-4500-f086-2589723c56de"
      },
      "source": [
        "evenlist = []\n",
        "oddlist = []\n",
        "for r in rr:\n",
        "  print( r, rr)\n",
        "  if r % 2 == 0: \n",
        "    print(r,'is an even number')\n",
        "    evenllist.append(r)\n",
        "  else:\n",
        "    print(r,'is an odd number')\n",
        "    oddlist.append(r)\n",
        "# 오오오오 이거 기억하자 댑악"
      ],
      "execution_count": 12,
      "outputs": [
        {
          "output_type": "error",
          "ename": "NameError",
          "evalue": "ignored",
          "traceback": [
            "\u001b[0;31m---------------------------------------------------------------------------\u001b[0m",
            "\u001b[0;31mNameError\u001b[0m                                 Traceback (most recent call last)",
            "\u001b[0;32m<ipython-input-12-e4762739d7eb>\u001b[0m in \u001b[0;36m<module>\u001b[0;34m()\u001b[0m\n\u001b[1;32m      1\u001b[0m \u001b[0mevenlist\u001b[0m \u001b[0;34m=\u001b[0m \u001b[0;34m[\u001b[0m\u001b[0;34m]\u001b[0m\u001b[0;34m\u001b[0m\u001b[0;34m\u001b[0m\u001b[0m\n\u001b[1;32m      2\u001b[0m \u001b[0moddlist\u001b[0m \u001b[0;34m=\u001b[0m \u001b[0;34m[\u001b[0m\u001b[0;34m]\u001b[0m\u001b[0;34m\u001b[0m\u001b[0;34m\u001b[0m\u001b[0m\n\u001b[0;32m----> 3\u001b[0;31m \u001b[0;32mfor\u001b[0m \u001b[0mr\u001b[0m \u001b[0;32min\u001b[0m \u001b[0mrr\u001b[0m\u001b[0;34m:\u001b[0m\u001b[0;34m\u001b[0m\u001b[0;34m\u001b[0m\u001b[0m\n\u001b[0m\u001b[1;32m      4\u001b[0m   \u001b[0mprint\u001b[0m\u001b[0;34m(\u001b[0m \u001b[0mr\u001b[0m\u001b[0;34m,\u001b[0m \u001b[0mrr\u001b[0m\u001b[0;34m)\u001b[0m\u001b[0;34m\u001b[0m\u001b[0;34m\u001b[0m\u001b[0m\n\u001b[1;32m      5\u001b[0m   \u001b[0;32mif\u001b[0m \u001b[0mr\u001b[0m \u001b[0;34m%\u001b[0m \u001b[0;36m2\u001b[0m \u001b[0;34m==\u001b[0m \u001b[0;36m0\u001b[0m\u001b[0;34m:\u001b[0m\u001b[0;34m\u001b[0m\u001b[0;34m\u001b[0m\u001b[0m\n",
            "\u001b[0;31mNameError\u001b[0m: name 'rr' is not defined"
          ]
        }
      ]
    },
    {
      "cell_type": "code",
      "metadata": {
        "id": "RkkX4Pddv22z",
        "colab_type": "code",
        "colab": {}
      },
      "source": [
        "                                       "
      ],
      "execution_count": null,
      "outputs": []
    }
  ]
}